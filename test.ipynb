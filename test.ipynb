{
 "cells": [
  {
   "cell_type": "code",
   "execution_count": 3,
   "metadata": {},
   "outputs": [
    {
     "name": "stdout",
     "output_type": "stream",
     "text": [
      "Scan QR Code, And then Enter\n",
      "Logged In\n"
     ]
    }
   ],
   "source": [
    "from selenium import webdriver\n",
    "from selenium.webdriver.common.keys import Keys\n",
    "from selenium.webdriver.common.by import By\n",
    "from selenium.webdriver.support.ui import WebDriverWait\n",
    "from selenium.webdriver.support import expected_conditions as EC\n",
    "from selenium.webdriver.chrome.service import Service\n",
    "from webdriver_manager.chrome import ChromeDriverManager\n",
    "import time\n",
    "from datetime import datetime, timedelta\n",
    "\n",
    "# Set the path of the chromedriver.exe\n",
    "driver = webdriver.Chrome(service=Service(ChromeDriverManager().install()))\n",
    "\n",
    "# Open WhatsApp\n",
    "driver.get('https://web.whatsapp.com/')\n",
    "\n",
    "# Wait for the user to scan the QR code\n",
    "wait = WebDriverWait(driver, 600)\n",
    "print('Scan QR Code, And then Enter')\n",
    "input()\n",
    "print(\"Logged In\")\n",
    "\n"
   ]
  },
  {
   "cell_type": "code",
   "execution_count": 5,
   "metadata": {},
   "outputs": [
    {
     "name": "stdout",
     "output_type": "stream",
     "text": [
      "[]\n",
      "[]\n",
      "[]\n",
      "[]\n",
      "[]\n"
     ]
    },
    {
     "ename": "KeyboardInterrupt",
     "evalue": "",
     "output_type": "error",
     "traceback": [
      "\u001b[0;31m---------------------------------------------------------------------------\u001b[0m",
      "\u001b[0;31mKeyboardInterrupt\u001b[0m                         Traceback (most recent call last)",
      "\u001b[1;32m/Users/ankushpandey/Library/CloudStorage/GoogleDrive-ap539813@gmail.com/My Drive/Personal Project/ChatGPT-whatsApp-bot/test.ipynb Cell 2\u001b[0m in \u001b[0;36m<cell line: 2>\u001b[0;34m()\u001b[0m\n\u001b[1;32m     <a href='vscode-notebook-cell:/Users/ankushpandey/Library/CloudStorage/GoogleDrive-ap539813%40gmail.com/My%20Drive/Personal%20Project/ChatGPT-whatsApp-bot/test.ipynb#W1sZmlsZQ%3D%3D?line=17'>18</a>\u001b[0m     \u001b[39mprint\u001b[39m(\u001b[39m\"\u001b[39m\u001b[39mAn error occurred: \u001b[39m\u001b[39m\"\u001b[39m, e)\n\u001b[1;32m     <a href='vscode-notebook-cell:/Users/ankushpandey/Library/CloudStorage/GoogleDrive-ap539813%40gmail.com/My%20Drive/Personal%20Project/ChatGPT-whatsApp-bot/test.ipynb#W1sZmlsZQ%3D%3D?line=18'>19</a>\u001b[0m     \u001b[39mcontinue\u001b[39;00m\n\u001b[0;32m---> <a href='vscode-notebook-cell:/Users/ankushpandey/Library/CloudStorage/GoogleDrive-ap539813%40gmail.com/My%20Drive/Personal%20Project/ChatGPT-whatsApp-bot/test.ipynb#W1sZmlsZQ%3D%3D?line=19'>20</a>\u001b[0m time\u001b[39m.\u001b[39;49msleep(\u001b[39m10\u001b[39;49m)\n",
      "\u001b[0;31mKeyboardInterrupt\u001b[0m: "
     ]
    }
   ],
   "source": [
    "while True:\n",
    "    try:\n",
    "        # Wait for the specific contact to show up\n",
    "        target = '\"Bhaiya 😜😜🤗💛❤️ Pandey\"'  # replace 'Contact Name' with the name of your WhatsApp contact or their phone number\n",
    "        x_arg = '//span[contains(@title,' + target + ')]'\n",
    "        group_title = wait.until(EC.presence_of_element_located((By.XPATH, x_arg)))\n",
    "        group_title.click()\n",
    "\n",
    "        # Detect new message by checking the presence of a specific HTML element\n",
    "        msg_got = driver.find_elements(By.CSS_SELECTOR, \"span.selectable-text.invisible-space.copyable-text\")\n",
    "        msg = [message.text for message in msg_got]\n",
    "        print(msg)\n",
    "\n",
    "        if True:\n",
    "            msg_box = driver.find_elements(By.CLASS_NAME, '_3Uu1_')[0]\n",
    "            msg_box.send_keys(\"Hi, I received the message\" + Keys.ENTER)\n",
    "    except Exception as e:\n",
    "        print(\"An error occurred: \", e)\n",
    "        continue\n",
    "    time.sleep(10)  # Wait for 10 seconds before checking for new messages\n"
   ]
  },
  {
   "cell_type": "code",
   "execution_count": 6,
   "metadata": {},
   "outputs": [
    {
     "name": "stdout",
     "output_type": "stream",
     "text": [
      "Hi, I received the message\n",
      "0:21:53.319049\n",
      "Hi, I received the message\n",
      "0:22:04.008488\n",
      "Hi, I received the message\n",
      "0:22:14.462455\n",
      "Yo wassup bro\n",
      "0:00:24.925209\n",
      "0:00:24.925209\n",
      "messaging\n",
      "Hi, I received the message\n",
      "0:00:37.753672\n",
      "What are you doing these days\n",
      "0:00:48.443613\n",
      "0:00:48.443613\n",
      "messaging\n",
      "Hi, I received the message\n",
      "0:01:01.192313\n",
      "Hi, I received the message\n",
      "0:01:12.377275\n"
     ]
    },
    {
     "ename": "KeyboardInterrupt",
     "evalue": "",
     "output_type": "error",
     "traceback": [
      "\u001b[0;31m---------------------------------------------------------------------------\u001b[0m",
      "\u001b[0;31mKeyboardInterrupt\u001b[0m                         Traceback (most recent call last)",
      "\u001b[0;32m<ipython-input-6-9f78244a10db>\u001b[0m in \u001b[0;36m<module>\u001b[0;34m\u001b[0m\n\u001b[1;32m     49\u001b[0m         \u001b[0mprint\u001b[0m\u001b[0;34m(\u001b[0m\u001b[0;34m\"An error occurred: \"\u001b[0m\u001b[0;34m,\u001b[0m \u001b[0me\u001b[0m\u001b[0;34m)\u001b[0m\u001b[0;34m\u001b[0m\u001b[0;34m\u001b[0m\u001b[0m\n\u001b[1;32m     50\u001b[0m         \u001b[0;32mcontinue\u001b[0m\u001b[0;34m\u001b[0m\u001b[0;34m\u001b[0m\u001b[0m\n\u001b[0;32m---> 51\u001b[0;31m     \u001b[0mtime\u001b[0m\u001b[0;34m.\u001b[0m\u001b[0msleep\u001b[0m\u001b[0;34m(\u001b[0m\u001b[0;36m10\u001b[0m\u001b[0;34m)\u001b[0m  \u001b[0;31m# Wait for 10 seconds before checking for new messages\u001b[0m\u001b[0;34m\u001b[0m\u001b[0;34m\u001b[0m\u001b[0m\n\u001b[0m",
      "\u001b[0;31mKeyboardInterrupt\u001b[0m: "
     ]
    }
   ],
   "source": [
    "# Get the current date\n",
    "current_date = datetime.now().date()\n",
    "target = '\"Bhaiya 😜😜🤗💛❤️ Pandey\"' \n",
    "x_arg = '//span[contains(@title,' + target + ')]'\n",
    "\n",
    "last_message_text = ''\n",
    "my_last_message = ''\n",
    "\n",
    "while True:\n",
    "    try:\n",
    "        # Wait for the specific contact to show up\n",
    "        group_title = wait.until(EC.presence_of_element_located((By.XPATH, x_arg)))\n",
    "        group_title.click()\n",
    "\n",
    "        # Detect new message by checking the last message in the conversation\n",
    "        all_messages = driver.find_elements(By.CSS_SELECTOR, \"div._1BOF7._2AOIt\")\n",
    "        last_message = all_messages[-1]\n",
    "        \n",
    "        # Get the timestamp from the message\n",
    "        timestamp_element = last_message.find_element(By.CSS_SELECTOR, \"span.l7jjieqr.fewfhwl7\")\n",
    "        timestamp_str = timestamp_element.text  # \"12:42 am\"\n",
    "\n",
    "        # Get the message text\n",
    "        message_text_element = last_message.find_element(By.CSS_SELECTOR, \"span._11JPr.selectable-text.copyable-text\")\n",
    "        message_text = message_text_element.text\n",
    "        print(message_text)\n",
    "\n",
    "        # Convert the timestamp to a datetime object\n",
    "        timestamp = datetime.strptime(timestamp_str, \"%I:%M %p\")\n",
    "\n",
    "        # Update the year, month and day of the timestamp to match the current date\n",
    "        timestamp = timestamp.replace(year=current_date.year, month=current_date.month, day=current_date.day)\n",
    "\n",
    "        # Get the current time\n",
    "        current_time = datetime.now()\n",
    "\n",
    "        \n",
    "        print(current_time - timestamp)\n",
    "        # If the message was sent less than 60 seconds ago, respond to it\n",
    "        if (current_time - timestamp < timedelta(seconds=60)) and (last_message_text != message_text) and (my_last_message != message_text):\n",
    "            print(current_time - timestamp)\n",
    "            print(\"messaging\")\n",
    "            my_message = \"Hi, I received the message\"\n",
    "            msg_box = driver.find_elements(By.CLASS_NAME, '_3Uu1_')[0]\n",
    "            msg_box.send_keys(my_message + Keys.ENTER)\n",
    "            last_message_text = message_text\n",
    "            my_last_message = my_message\n",
    "    except Exception as e:\n",
    "        print(\"An error occurred: \", e)\n",
    "        continue\n",
    "    time.sleep(10)  # Wait for 10 seconds before checking for new messages"
   ]
  },
  {
   "cell_type": "code",
   "execution_count": null,
   "metadata": {},
   "outputs": [],
   "source": []
  }
 ],
 "metadata": {
  "kernelspec": {
   "display_name": "base",
   "language": "python",
   "name": "python3"
  },
  "language_info": {
   "codemirror_mode": {
    "name": "ipython",
    "version": 3
   },
   "file_extension": ".py",
   "mimetype": "text/x-python",
   "name": "python",
   "nbconvert_exporter": "python",
   "pygments_lexer": "ipython3",
   "version": "3.9.2"
  },
  "orig_nbformat": 4
 },
 "nbformat": 4,
 "nbformat_minor": 2
}
