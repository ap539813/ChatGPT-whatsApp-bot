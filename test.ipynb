{
 "cells": [
  {
   "cell_type": "code",
   "execution_count": 2,
   "metadata": {},
   "outputs": [
    {
     "name": "stdout",
     "output_type": "stream",
     "text": [
      "Scan QR Code, And then Enter\n",
      "Logged In\n"
     ]
    }
   ],
   "source": [
    "from selenium import webdriver\n",
    "from selenium.webdriver.common.keys import Keys\n",
    "from selenium.webdriver.common.by import By\n",
    "from selenium.webdriver.support.ui import WebDriverWait\n",
    "from selenium.webdriver.support import expected_conditions as EC\n",
    "from selenium.webdriver.chrome.service import Service\n",
    "from webdriver_manager.chrome import ChromeDriverManager\n",
    "import time\n",
    "from datetime import datetime, timedelta\n",
    "\n",
    "import json\n",
    "import openai\n",
    "\n",
    "\n",
    "\n",
    "# Set the path of the chromedriver.exe\n",
    "driver = webdriver.Chrome()\n",
    "\n",
    "# Open WhatsApp\n",
    "driver.get('https://web.whatsapp.com/')\n",
    "\n",
    "# Wait for the user to scan the QR code\n",
    "wait = WebDriverWait(driver, 600)\n",
    "print('Scan QR Code, And then Enter')\n",
    "input()\n",
    "print(\"Logged In\")\n",
    "\n"
   ]
  },
  {
   "cell_type": "code",
   "execution_count": 9,
   "metadata": {},
   "outputs": [
    {
     "ename": "KeyboardInterrupt",
     "evalue": "",
     "output_type": "error",
     "traceback": [
      "\u001b[0;31m---------------------------------------------------------------------------\u001b[0m",
      "\u001b[0;31mKeyboardInterrupt\u001b[0m                         Traceback (most recent call last)",
      "\u001b[0;32m<ipython-input-9-fb806f8cb072>\u001b[0m in \u001b[0;36m<module>\u001b[0;34m\u001b[0m\n\u001b[1;32m     78\u001b[0m             \u001b[0mprint\u001b[0m\u001b[0;34m(\u001b[0m\u001b[0;34m\"An error occurred: \"\u001b[0m\u001b[0;34m,\u001b[0m \u001b[0me\u001b[0m\u001b[0;34m)\u001b[0m\u001b[0;34m\u001b[0m\u001b[0;34m\u001b[0m\u001b[0m\n\u001b[1;32m     79\u001b[0m             \u001b[0;32mcontinue\u001b[0m\u001b[0;34m\u001b[0m\u001b[0;34m\u001b[0m\u001b[0m\n\u001b[0;32m---> 80\u001b[0;31m         \u001b[0mtime\u001b[0m\u001b[0;34m.\u001b[0m\u001b[0msleep\u001b[0m\u001b[0;34m(\u001b[0m\u001b[0;36m10\u001b[0m\u001b[0;34m)\u001b[0m  \u001b[0;31m# Wait for 10 seconds before checking for new messages\u001b[0m\u001b[0;34m\u001b[0m\u001b[0;34m\u001b[0m\u001b[0m\n\u001b[0m",
      "\u001b[0;31mKeyboardInterrupt\u001b[0m: "
     ]
    }
   ],
   "source": [
    "# Get the current date\n",
    "\n",
    "current_date = datetime.now().date()\n",
    "target = '\"Bhaiya 😜😜🤗💛❤️ Pandey\"' \n",
    "x_arg = '//span[contains(@title,' + target + ')]'\n",
    "\n",
    "with open('secrets.json') as f:\n",
    "    data = json.load(f)\n",
    "\n",
    "openai.api_key = data['api_key']\n",
    "\n",
    "messages = [\n",
    "    {\"role\": \"system\", \"content\": \"Personal assistsnt for queries, I am a software developer, python developer, data science and machine learning developer, I also take classes on these topics\"},\n",
    "]\n",
    "\n",
    "del data\n",
    "\n",
    "def clean_text(msg):\n",
    "    return msg.replace('\\n', '').replace('\\ue008\\ue007\\ue008', '').replace('`', '').replace('(Keys.SHIFT)+(Keys.ENTER)+(Keys.SHIFT)', '')\n",
    "\n",
    "def chat_response(input_message):\n",
    "    global messages\n",
    "    if input_message:\n",
    "        messages.append({\n",
    "            'role': 'user', 'content': input_message\n",
    "        })\n",
    "        chat = openai.ChatCompletion.create(\n",
    "            model = \"gpt-3.5-turbo\", messages = messages\n",
    "        )\n",
    "\n",
    "    reply = chat.choices[0].message.content\n",
    "    messages.append({\"role\": \"assistant\", \"content\": reply})\n",
    "    return reply\n",
    "\n",
    "last_message_text = ''\n",
    "my_last_message = ''\n",
    "\n",
    "if __name__ == \"__main__\":\n",
    "    while True:\n",
    "        try:\n",
    "            # Wait for the specific contact to show up\n",
    "            group_title = wait.until(EC.presence_of_element_located((By.XPATH, x_arg)))\n",
    "            group_title.click()\n",
    "\n",
    "            # Detect new message by checking the last message in the conversation\n",
    "            all_messages = driver.find_elements(By.CSS_SELECTOR, \"div._1BOF7._2AOIt\")\n",
    "            last_message = all_messages[-1]\n",
    "            \n",
    "            # Get the timestamp from the message\n",
    "            timestamp_element = last_message.find_element(By.CSS_SELECTOR, \"span.l7jjieqr.fewfhwl7\")\n",
    "            timestamp_str = timestamp_element.text  # \"12:42 am\"\n",
    "\n",
    "            # Get the message text\n",
    "            message_text_element = last_message.find_element(By.CSS_SELECTOR, \"span._11JPr.selectable-text.copyable-text\")\n",
    "            message_text = message_text_element.text\n",
    "\n",
    "            # Convert the timestamp to a datetime object\n",
    "            timestamp = datetime.strptime(timestamp_str, \"%I:%M %p\")\n",
    "\n",
    "            # Update the year, month and day of the timestamp to match the current date\n",
    "            timestamp = timestamp.replace(year=current_date.year, month=current_date.month, day=current_date.day)\n",
    "\n",
    "            # Get the current time\n",
    "            current_time = datetime.now()\n",
    "\n",
    "            \n",
    "            # print((current_time - timestamp), repr(last_message_text), repr(my_last_message), repr(message_text))\n",
    "            # If the message was sent less than 60 seconds ago, respond to it\n",
    "            if (current_time - timestamp < timedelta(seconds=70)) and (clean_text(last_message_text)[:200] != clean_text(message_text)[:200]) and (clean_text(my_last_message)[:200] != clean_text(message_text)[:200]):\n",
    "                print(\"messaging\")\n",
    "                # my_message = chat_response(message_text).replace('\\n', (Keys.SHIFT)+(Keys.ENTER)+(Keys.SHIFT))\n",
    "                my_message = r'Hi this is the message I want to send \\n 😁 but this shouldnt go in the next line'.replace('\\n', (Keys.SHIFT)+(Keys.ENTER)+(Keys.SHIFT))\n",
    "                msg_box = driver.find_elements(By.CLASS_NAME, '_3Uu1_')[0]\n",
    "                msg_box.send_keys(my_message + Keys.ENTER)\n",
    "                last_message_text = clean_text(message_text)\n",
    "                my_last_message = clean_text(my_message)\n",
    "        except Exception as e:\n",
    "            print(\"An error occurred: \", e)\n",
    "            continue\n",
    "        time.sleep(10)  # Wait for 10 seconds before checking for new messages"
   ]
  },
  {
   "cell_type": "code",
   "execution_count": 1,
   "metadata": {},
   "outputs": [],
   "source": [
    "import os"
   ]
  },
  {
   "cell_type": "code",
   "execution_count": 4,
   "metadata": {},
   "outputs": [
    {
     "data": {
      "text/plain": [
       "['.git',\n",
       " 'browser_settings',\n",
       " 'README.md',\n",
       " '.gitignore',\n",
       " 'requirements.txt',\n",
       " 'test.ipynb',\n",
       " 'secrets.json',\n",
       " 'whatsapp_bot.py']"
      ]
     },
     "execution_count": 4,
     "metadata": {},
     "output_type": "execute_result"
    }
   ],
   "source": [
    "os.listdir('./')"
   ]
  },
  {
   "cell_type": "code",
   "execution_count": null,
   "metadata": {},
   "outputs": [],
   "source": []
  }
 ],
 "metadata": {
  "kernelspec": {
   "display_name": "base",
   "language": "python",
   "name": "python3"
  },
  "language_info": {
   "codemirror_mode": {
    "name": "ipython",
    "version": 3
   },
   "file_extension": ".py",
   "mimetype": "text/x-python",
   "name": "python",
   "nbconvert_exporter": "python",
   "pygments_lexer": "ipython3",
   "version": "3.9.10"
  },
  "orig_nbformat": 4
 },
 "nbformat": 4,
 "nbformat_minor": 2
}
