{
 "cells": [
  {
   "cell_type": "code",
   "execution_count": 1,
   "metadata": {},
   "outputs": [
    {
     "name": "stdout",
     "output_type": "stream",
     "text": [
      "Scan QR Code, And then Enter\n",
      "Logged In\n"
     ]
    }
   ],
   "source": [
    "from selenium import webdriver\n",
    "from selenium.webdriver.common.keys import Keys\n",
    "from selenium.webdriver.common.by import By\n",
    "from selenium.webdriver.support.ui import WebDriverWait\n",
    "from selenium.webdriver.support import expected_conditions as EC\n",
    "from selenium.webdriver.chrome.service import Service\n",
    "from webdriver_manager.chrome import ChromeDriverManager\n",
    "import time\n",
    "from datetime import datetime, timedelta\n",
    "\n",
    "import json\n",
    "import openai\n",
    "\n",
    "\n",
    "\n",
    "# Set the path of the chromedriver.exe\n",
    "driver = webdriver.Chrome(service=Service(ChromeDriverManager().install()))\n",
    "\n",
    "# Open WhatsApp\n",
    "driver.get('https://web.whatsapp.com/')\n",
    "\n",
    "# Wait for the user to scan the QR code\n",
    "wait = WebDriverWait(driver, 600)\n",
    "print('Scan QR Code, And then Enter')\n",
    "input()\n",
    "print(\"Logged In\")\n",
    "\n"
   ]
  },
  {
   "cell_type": "code",
   "execution_count": 4,
   "metadata": {},
   "outputs": [
    {
     "name": "stdout",
     "output_type": "stream",
     "text": [
      "0:07:14.605416 '' '' \"Yes, that is correct! This program will find the shortest value in a list of integers without using the built-in `min()` function in Python. \\n\\nDo you have any other questions or tasks related to Python or programming in general? I'm happy to help.\"\n",
      "0:07:24.686560 '' '' \"Yes, that is correct! This program will find the shortest value in a list of integers without using the built-in `min()` function in Python. \\n\\nDo you have any other questions or tasks related to Python or programming in general? I'm happy to help.\"\n",
      "0:00:34.764808 '' '' 'A program to find the shortest value in a list of integers in python. Don’t use the min function'\n",
      "messaging\n",
      "0:00:56.516767 'A program to find the shortest value in a list of integers in python. Don’t use the min function' 'Sure, here\\'s a Python program to find the shortest value in a list of integers without using the built-in min() function:pythondef find_shortest(lst):    \"\"\"    Returns the shortest value in a list of integers    \"\"\"    shortest = lst[0]  # initialize shortest to the first element of the list    for elem in lst:        if elem < shortest:            shortest = elem    return shortestHere\\'s how you can use the function:pythonmy_list = [10, 5, 7, 3, 8]shortest = find_shortest(my_list)print(\"The shortest value in the list is:\", shortest)Output: The shortest value in the list is: 3' 'Sure, here\\'s a Python program to find the shortest value in a list of integers without using the built-in `min()` function:\\n\\npython\\ndef find_shortest(lst):\\n    \"\"\"\\n    Returns the shortest value in a list of integers\\n    \"\"\"\\n    shortest = lst[0]  # initialize shortest to the first element of the list\\n    for elem in lst:\\n        if elem < shortest:\\n            shortest = elem\\n    return shortest\\n\\n\\nHere\\'s how you can use the function:\\n\\npython\\nmy_list = [10, 5, 7, 3, 8]\\nshortest = find_shortest(my_list)\\nprint(\"The shortest value in the list is:\", shortest)\\n\\n\\nOutput: `The shortest value in the list is: 3`'\n",
      "0:01:06.583504 'A program to find the shortest value in a list of integers in python. Don’t use the min function' 'Sure, here\\'s a Python program to find the shortest value in a list of integers without using the built-in min() function:pythondef find_shortest(lst):    \"\"\"    Returns the shortest value in a list of integers    \"\"\"    shortest = lst[0]  # initialize shortest to the first element of the list    for elem in lst:        if elem < shortest:            shortest = elem    return shortestHere\\'s how you can use the function:pythonmy_list = [10, 5, 7, 3, 8]shortest = find_shortest(my_list)print(\"The shortest value in the list is:\", shortest)Output: The shortest value in the list is: 3' 'Sure, here\\'s a Python program to find the shortest value in a list of integers without using the built-in `min()` function:\\n\\npython\\ndef find_shortest(lst):\\n    \"\"\"\\n    Returns the shortest value in a list of integers\\n    \"\"\"\\n    shortest = lst[0]  # initialize shortest to the first element of the list\\n    for elem in lst:\\n        if elem < shortest:\\n            shortest = elem\\n    return shortest\\n\\n\\nHere\\'s how you can use the function:\\n\\npython\\nmy_list = [10, 5, 7, 3, 8]\\nshortest = find_shortest(my_list)\\nprint(\"The shortest value in the list is:\", shortest)\\n\\n\\nOutput: `The shortest value in the list is: 3`'\n",
      "0:01:16.652685 'A program to find the shortest value in a list of integers in python. Don’t use the min function' 'Sure, here\\'s a Python program to find the shortest value in a list of integers without using the built-in min() function:pythondef find_shortest(lst):    \"\"\"    Returns the shortest value in a list of integers    \"\"\"    shortest = lst[0]  # initialize shortest to the first element of the list    for elem in lst:        if elem < shortest:            shortest = elem    return shortestHere\\'s how you can use the function:pythonmy_list = [10, 5, 7, 3, 8]shortest = find_shortest(my_list)print(\"The shortest value in the list is:\", shortest)Output: The shortest value in the list is: 3' 'Sure, here\\'s a Python program to find the shortest value in a list of integers without using the built-in `min()` function:\\n\\npython\\ndef find_shortest(lst):\\n    \"\"\"\\n    Returns the shortest value in a list of integers\\n    \"\"\"\\n    shortest = lst[0]  # initialize shortest to the first element of the list\\n    for elem in lst:\\n        if elem < shortest:\\n            shortest = elem\\n    return shortest\\n\\n\\nHere\\'s how you can use the function:\\n\\npython\\nmy_list = [10, 5, 7, 3, 8]\\nshortest = find_shortest(my_list)\\nprint(\"The shortest value in the list is:\", shortest)\\n\\n\\nOutput: `The shortest value in the list is: 3`'\n",
      "0:01:26.722019 'A program to find the shortest value in a list of integers in python. Don’t use the min function' 'Sure, here\\'s a Python program to find the shortest value in a list of integers without using the built-in min() function:pythondef find_shortest(lst):    \"\"\"    Returns the shortest value in a list of integers    \"\"\"    shortest = lst[0]  # initialize shortest to the first element of the list    for elem in lst:        if elem < shortest:            shortest = elem    return shortestHere\\'s how you can use the function:pythonmy_list = [10, 5, 7, 3, 8]shortest = find_shortest(my_list)print(\"The shortest value in the list is:\", shortest)Output: The shortest value in the list is: 3' 'Sure, here\\'s a Python program to find the shortest value in a list of integers without using the built-in `min()` function:\\n\\npython\\ndef find_shortest(lst):\\n    \"\"\"\\n    Returns the shortest value in a list of integers\\n    \"\"\"\\n    shortest = lst[0]  # initialize shortest to the first element of the list\\n    for elem in lst:\\n        if elem < shortest:\\n            shortest = elem\\n    return shortest\\n\\n\\nHere\\'s how you can use the function:\\n\\npython\\nmy_list = [10, 5, 7, 3, 8]\\nshortest = find_shortest(my_list)\\nprint(\"The shortest value in the list is:\", shortest)\\n\\n\\nOutput: `The shortest value in the list is: 3`'\n",
      "0:01:36.790836 'A program to find the shortest value in a list of integers in python. Don’t use the min function' 'Sure, here\\'s a Python program to find the shortest value in a list of integers without using the built-in min() function:pythondef find_shortest(lst):    \"\"\"    Returns the shortest value in a list of integers    \"\"\"    shortest = lst[0]  # initialize shortest to the first element of the list    for elem in lst:        if elem < shortest:            shortest = elem    return shortestHere\\'s how you can use the function:pythonmy_list = [10, 5, 7, 3, 8]shortest = find_shortest(my_list)print(\"The shortest value in the list is:\", shortest)Output: The shortest value in the list is: 3' 'Sure, here\\'s a Python program to find the shortest value in a list of integers without using the built-in `min()` function:\\n\\npython\\ndef find_shortest(lst):\\n    \"\"\"\\n    Returns the shortest value in a list of integers\\n    \"\"\"\\n    shortest = lst[0]  # initialize shortest to the first element of the list\\n    for elem in lst:\\n        if elem < shortest:\\n            shortest = elem\\n    return shortest\\n\\n\\nHere\\'s how you can use the function:\\n\\npython\\nmy_list = [10, 5, 7, 3, 8]\\nshortest = find_shortest(my_list)\\nprint(\"The shortest value in the list is:\", shortest)\\n\\n\\nOutput: `The shortest value in the list is: 3`'\n",
      "0:01:46.859901 'A program to find the shortest value in a list of integers in python. Don’t use the min function' 'Sure, here\\'s a Python program to find the shortest value in a list of integers without using the built-in min() function:pythondef find_shortest(lst):    \"\"\"    Returns the shortest value in a list of integers    \"\"\"    shortest = lst[0]  # initialize shortest to the first element of the list    for elem in lst:        if elem < shortest:            shortest = elem    return shortestHere\\'s how you can use the function:pythonmy_list = [10, 5, 7, 3, 8]shortest = find_shortest(my_list)print(\"The shortest value in the list is:\", shortest)Output: The shortest value in the list is: 3' 'Sure, here\\'s a Python program to find the shortest value in a list of integers without using the built-in `min()` function:\\n\\npython\\ndef find_shortest(lst):\\n    \"\"\"\\n    Returns the shortest value in a list of integers\\n    \"\"\"\\n    shortest = lst[0]  # initialize shortest to the first element of the list\\n    for elem in lst:\\n        if elem < shortest:\\n            shortest = elem\\n    return shortest\\n\\n\\nHere\\'s how you can use the function:\\n\\npython\\nmy_list = [10, 5, 7, 3, 8]\\nshortest = find_shortest(my_list)\\nprint(\"The shortest value in the list is:\", shortest)\\n\\n\\nOutput: `The shortest value in the list is: 3`'\n",
      "0:01:56.941570 'A program to find the shortest value in a list of integers in python. Don’t use the min function' 'Sure, here\\'s a Python program to find the shortest value in a list of integers without using the built-in min() function:pythondef find_shortest(lst):    \"\"\"    Returns the shortest value in a list of integers    \"\"\"    shortest = lst[0]  # initialize shortest to the first element of the list    for elem in lst:        if elem < shortest:            shortest = elem    return shortestHere\\'s how you can use the function:pythonmy_list = [10, 5, 7, 3, 8]shortest = find_shortest(my_list)print(\"The shortest value in the list is:\", shortest)Output: The shortest value in the list is: 3' 'Sure, here\\'s a Python program to find the shortest value in a list of integers without using the built-in `min()` function:\\n\\npython\\ndef find_shortest(lst):\\n    \"\"\"\\n    Returns the shortest value in a list of integers\\n    \"\"\"\\n    shortest = lst[0]  # initialize shortest to the first element of the list\\n    for elem in lst:\\n        if elem < shortest:\\n            shortest = elem\\n    return shortest\\n\\n\\nHere\\'s how you can use the function:\\n\\npython\\nmy_list = [10, 5, 7, 3, 8]\\nshortest = find_shortest(my_list)\\nprint(\"The shortest value in the list is:\", shortest)\\n\\n\\nOutput: `The shortest value in the list is: 3`'\n",
      "0:02:07.010264 'A program to find the shortest value in a list of integers in python. Don’t use the min function' 'Sure, here\\'s a Python program to find the shortest value in a list of integers without using the built-in min() function:pythondef find_shortest(lst):    \"\"\"    Returns the shortest value in a list of integers    \"\"\"    shortest = lst[0]  # initialize shortest to the first element of the list    for elem in lst:        if elem < shortest:            shortest = elem    return shortestHere\\'s how you can use the function:pythonmy_list = [10, 5, 7, 3, 8]shortest = find_shortest(my_list)print(\"The shortest value in the list is:\", shortest)Output: The shortest value in the list is: 3' 'Sure, here\\'s a Python program to find the shortest value in a list of integers without using the built-in `min()` function:\\n\\npython\\ndef find_shortest(lst):\\n    \"\"\"\\n    Returns the shortest value in a list of integers\\n    \"\"\"\\n    shortest = lst[0]  # initialize shortest to the first element of the list\\n    for elem in lst:\\n        if elem < shortest:\\n            shortest = elem\\n    return shortest\\n\\n\\nHere\\'s how you can use the function:\\n\\npython\\nmy_list = [10, 5, 7, 3, 8]\\nshortest = find_shortest(my_list)\\nprint(\"The shortest value in the list is:\", shortest)\\n\\n\\nOutput: `The shortest value in the list is: 3`'\n",
      "0:02:17.079768 'A program to find the shortest value in a list of integers in python. Don’t use the min function' 'Sure, here\\'s a Python program to find the shortest value in a list of integers without using the built-in min() function:pythondef find_shortest(lst):    \"\"\"    Returns the shortest value in a list of integers    \"\"\"    shortest = lst[0]  # initialize shortest to the first element of the list    for elem in lst:        if elem < shortest:            shortest = elem    return shortestHere\\'s how you can use the function:pythonmy_list = [10, 5, 7, 3, 8]shortest = find_shortest(my_list)print(\"The shortest value in the list is:\", shortest)Output: The shortest value in the list is: 3' 'Sure, here\\'s a Python program to find the shortest value in a list of integers without using the built-in `min()` function:\\n\\npython\\ndef find_shortest(lst):\\n    \"\"\"\\n    Returns the shortest value in a list of integers\\n    \"\"\"\\n    shortest = lst[0]  # initialize shortest to the first element of the list\\n    for elem in lst:\\n        if elem < shortest:\\n            shortest = elem\\n    return shortest\\n\\n\\nHere\\'s how you can use the function:\\n\\npython\\nmy_list = [10, 5, 7, 3, 8]\\nshortest = find_shortest(my_list)\\nprint(\"The shortest value in the list is:\", shortest)\\n\\n\\nOutput: `The shortest value in the list is: 3`'\n",
      "0:02:27.149451 'A program to find the shortest value in a list of integers in python. Don’t use the min function' 'Sure, here\\'s a Python program to find the shortest value in a list of integers without using the built-in min() function:pythondef find_shortest(lst):    \"\"\"    Returns the shortest value in a list of integers    \"\"\"    shortest = lst[0]  # initialize shortest to the first element of the list    for elem in lst:        if elem < shortest:            shortest = elem    return shortestHere\\'s how you can use the function:pythonmy_list = [10, 5, 7, 3, 8]shortest = find_shortest(my_list)print(\"The shortest value in the list is:\", shortest)Output: The shortest value in the list is: 3' 'Sure, here\\'s a Python program to find the shortest value in a list of integers without using the built-in `min()` function:\\n\\npython\\ndef find_shortest(lst):\\n    \"\"\"\\n    Returns the shortest value in a list of integers\\n    \"\"\"\\n    shortest = lst[0]  # initialize shortest to the first element of the list\\n    for elem in lst:\\n        if elem < shortest:\\n            shortest = elem\\n    return shortest\\n\\n\\nHere\\'s how you can use the function:\\n\\npython\\nmy_list = [10, 5, 7, 3, 8]\\nshortest = find_shortest(my_list)\\nprint(\"The shortest value in the list is:\", shortest)\\n\\n\\nOutput: `The shortest value in the list is: 3`'\n",
      "0:02:37.218927 'A program to find the shortest value in a list of integers in python. Don’t use the min function' 'Sure, here\\'s a Python program to find the shortest value in a list of integers without using the built-in min() function:pythondef find_shortest(lst):    \"\"\"    Returns the shortest value in a list of integers    \"\"\"    shortest = lst[0]  # initialize shortest to the first element of the list    for elem in lst:        if elem < shortest:            shortest = elem    return shortestHere\\'s how you can use the function:pythonmy_list = [10, 5, 7, 3, 8]shortest = find_shortest(my_list)print(\"The shortest value in the list is:\", shortest)Output: The shortest value in the list is: 3' 'Sure, here\\'s a Python program to find the shortest value in a list of integers without using the built-in `min()` function:\\n\\npython\\ndef find_shortest(lst):\\n    \"\"\"\\n    Returns the shortest value in a list of integers\\n    \"\"\"\\n    shortest = lst[0]  # initialize shortest to the first element of the list\\n    for elem in lst:\\n        if elem < shortest:\\n            shortest = elem\\n    return shortest\\n\\n\\nHere\\'s how you can use the function:\\n\\npython\\nmy_list = [10, 5, 7, 3, 8]\\nshortest = find_shortest(my_list)\\nprint(\"The shortest value in the list is:\", shortest)\\n\\n\\nOutput: `The shortest value in the list is: 3`'\n",
      "0:02:47.285777 'A program to find the shortest value in a list of integers in python. Don’t use the min function' 'Sure, here\\'s a Python program to find the shortest value in a list of integers without using the built-in min() function:pythondef find_shortest(lst):    \"\"\"    Returns the shortest value in a list of integers    \"\"\"    shortest = lst[0]  # initialize shortest to the first element of the list    for elem in lst:        if elem < shortest:            shortest = elem    return shortestHere\\'s how you can use the function:pythonmy_list = [10, 5, 7, 3, 8]shortest = find_shortest(my_list)print(\"The shortest value in the list is:\", shortest)Output: The shortest value in the list is: 3' 'Sure, here\\'s a Python program to find the shortest value in a list of integers without using the built-in `min()` function:\\n\\npython\\ndef find_shortest(lst):\\n    \"\"\"\\n    Returns the shortest value in a list of integers\\n    \"\"\"\\n    shortest = lst[0]  # initialize shortest to the first element of the list\\n    for elem in lst:\\n        if elem < shortest:\\n            shortest = elem\\n    return shortest\\n\\n\\nHere\\'s how you can use the function:\\n\\npython\\nmy_list = [10, 5, 7, 3, 8]\\nshortest = find_shortest(my_list)\\nprint(\"The shortest value in the list is:\", shortest)\\n\\n\\nOutput: `The shortest value in the list is: 3`'\n",
      "0:02:57.352571 'A program to find the shortest value in a list of integers in python. Don’t use the min function' 'Sure, here\\'s a Python program to find the shortest value in a list of integers without using the built-in min() function:pythondef find_shortest(lst):    \"\"\"    Returns the shortest value in a list of integers    \"\"\"    shortest = lst[0]  # initialize shortest to the first element of the list    for elem in lst:        if elem < shortest:            shortest = elem    return shortestHere\\'s how you can use the function:pythonmy_list = [10, 5, 7, 3, 8]shortest = find_shortest(my_list)print(\"The shortest value in the list is:\", shortest)Output: The shortest value in the list is: 3' 'Sure, here\\'s a Python program to find the shortest value in a list of integers without using the built-in `min()` function:\\n\\npython\\ndef find_shortest(lst):\\n    \"\"\"\\n    Returns the shortest value in a list of integers\\n    \"\"\"\\n    shortest = lst[0]  # initialize shortest to the first element of the list\\n    for elem in lst:\\n        if elem < shortest:\\n            shortest = elem\\n    return shortest\\n\\n\\nHere\\'s how you can use the function:\\n\\npython\\nmy_list = [10, 5, 7, 3, 8]\\nshortest = find_shortest(my_list)\\nprint(\"The shortest value in the list is:\", shortest)\\n\\n\\nOutput: `The shortest value in the list is: 3`'\n",
      "0:03:07.431039 'A program to find the shortest value in a list of integers in python. Don’t use the min function' 'Sure, here\\'s a Python program to find the shortest value in a list of integers without using the built-in min() function:pythondef find_shortest(lst):    \"\"\"    Returns the shortest value in a list of integers    \"\"\"    shortest = lst[0]  # initialize shortest to the first element of the list    for elem in lst:        if elem < shortest:            shortest = elem    return shortestHere\\'s how you can use the function:pythonmy_list = [10, 5, 7, 3, 8]shortest = find_shortest(my_list)print(\"The shortest value in the list is:\", shortest)Output: The shortest value in the list is: 3' 'Sure, here\\'s a Python program to find the shortest value in a list of integers without using the built-in `min()` function:\\n\\npython\\ndef find_shortest(lst):\\n    \"\"\"\\n    Returns the shortest value in a list of integers\\n    \"\"\"\\n    shortest = lst[0]  # initialize shortest to the first element of the list\\n    for elem in lst:\\n        if elem < shortest:\\n            shortest = elem\\n    return shortest\\n\\n\\nHere\\'s how you can use the function:\\n\\npython\\nmy_list = [10, 5, 7, 3, 8]\\nshortest = find_shortest(my_list)\\nprint(\"The shortest value in the list is:\", shortest)\\n\\n\\nOutput: `The shortest value in the list is: 3`'\n",
      "0:03:17.499113 'A program to find the shortest value in a list of integers in python. Don’t use the min function' 'Sure, here\\'s a Python program to find the shortest value in a list of integers without using the built-in min() function:pythondef find_shortest(lst):    \"\"\"    Returns the shortest value in a list of integers    \"\"\"    shortest = lst[0]  # initialize shortest to the first element of the list    for elem in lst:        if elem < shortest:            shortest = elem    return shortestHere\\'s how you can use the function:pythonmy_list = [10, 5, 7, 3, 8]shortest = find_shortest(my_list)print(\"The shortest value in the list is:\", shortest)Output: The shortest value in the list is: 3' 'Sure, here\\'s a Python program to find the shortest value in a list of integers without using the built-in `min()` function:\\n\\npython\\ndef find_shortest(lst):\\n    \"\"\"\\n    Returns the shortest value in a list of integers\\n    \"\"\"\\n    shortest = lst[0]  # initialize shortest to the first element of the list\\n    for elem in lst:\\n        if elem < shortest:\\n            shortest = elem\\n    return shortest\\n\\n\\nHere\\'s how you can use the function:\\n\\npython\\nmy_list = [10, 5, 7, 3, 8]\\nshortest = find_shortest(my_list)\\nprint(\"The shortest value in the list is:\", shortest)\\n\\n\\nOutput: `The shortest value in the list is: 3`'\n",
      "0:03:27.568464 'A program to find the shortest value in a list of integers in python. Don’t use the min function' 'Sure, here\\'s a Python program to find the shortest value in a list of integers without using the built-in min() function:pythondef find_shortest(lst):    \"\"\"    Returns the shortest value in a list of integers    \"\"\"    shortest = lst[0]  # initialize shortest to the first element of the list    for elem in lst:        if elem < shortest:            shortest = elem    return shortestHere\\'s how you can use the function:pythonmy_list = [10, 5, 7, 3, 8]shortest = find_shortest(my_list)print(\"The shortest value in the list is:\", shortest)Output: The shortest value in the list is: 3' 'Sure, here\\'s a Python program to find the shortest value in a list of integers without using the built-in `min()` function:\\n\\npython\\ndef find_shortest(lst):\\n    \"\"\"\\n    Returns the shortest value in a list of integers\\n    \"\"\"\\n    shortest = lst[0]  # initialize shortest to the first element of the list\\n    for elem in lst:\\n        if elem < shortest:\\n            shortest = elem\\n    return shortest\\n\\n\\nHere\\'s how you can use the function:\\n\\npython\\nmy_list = [10, 5, 7, 3, 8]\\nshortest = find_shortest(my_list)\\nprint(\"The shortest value in the list is:\", shortest)\\n\\n\\nOutput: `The shortest value in the list is: 3`'\n",
      "0:03:37.635612 'A program to find the shortest value in a list of integers in python. Don’t use the min function' 'Sure, here\\'s a Python program to find the shortest value in a list of integers without using the built-in min() function:pythondef find_shortest(lst):    \"\"\"    Returns the shortest value in a list of integers    \"\"\"    shortest = lst[0]  # initialize shortest to the first element of the list    for elem in lst:        if elem < shortest:            shortest = elem    return shortestHere\\'s how you can use the function:pythonmy_list = [10, 5, 7, 3, 8]shortest = find_shortest(my_list)print(\"The shortest value in the list is:\", shortest)Output: The shortest value in the list is: 3' 'Sure, here\\'s a Python program to find the shortest value in a list of integers without using the built-in `min()` function:\\n\\npython\\ndef find_shortest(lst):\\n    \"\"\"\\n    Returns the shortest value in a list of integers\\n    \"\"\"\\n    shortest = lst[0]  # initialize shortest to the first element of the list\\n    for elem in lst:\\n        if elem < shortest:\\n            shortest = elem\\n    return shortest\\n\\n\\nHere\\'s how you can use the function:\\n\\npython\\nmy_list = [10, 5, 7, 3, 8]\\nshortest = find_shortest(my_list)\\nprint(\"The shortest value in the list is:\", shortest)\\n\\n\\nOutput: `The shortest value in the list is: 3`'\n",
      "0:03:47.702663 'A program to find the shortest value in a list of integers in python. Don’t use the min function' 'Sure, here\\'s a Python program to find the shortest value in a list of integers without using the built-in min() function:pythondef find_shortest(lst):    \"\"\"    Returns the shortest value in a list of integers    \"\"\"    shortest = lst[0]  # initialize shortest to the first element of the list    for elem in lst:        if elem < shortest:            shortest = elem    return shortestHere\\'s how you can use the function:pythonmy_list = [10, 5, 7, 3, 8]shortest = find_shortest(my_list)print(\"The shortest value in the list is:\", shortest)Output: The shortest value in the list is: 3' 'Sure, here\\'s a Python program to find the shortest value in a list of integers without using the built-in `min()` function:\\n\\npython\\ndef find_shortest(lst):\\n    \"\"\"\\n    Returns the shortest value in a list of integers\\n    \"\"\"\\n    shortest = lst[0]  # initialize shortest to the first element of the list\\n    for elem in lst:\\n        if elem < shortest:\\n            shortest = elem\\n    return shortest\\n\\n\\nHere\\'s how you can use the function:\\n\\npython\\nmy_list = [10, 5, 7, 3, 8]\\nshortest = find_shortest(my_list)\\nprint(\"The shortest value in the list is:\", shortest)\\n\\n\\nOutput: `The shortest value in the list is: 3`'\n",
      "0:03:57.773053 'A program to find the shortest value in a list of integers in python. Don’t use the min function' 'Sure, here\\'s a Python program to find the shortest value in a list of integers without using the built-in min() function:pythondef find_shortest(lst):    \"\"\"    Returns the shortest value in a list of integers    \"\"\"    shortest = lst[0]  # initialize shortest to the first element of the list    for elem in lst:        if elem < shortest:            shortest = elem    return shortestHere\\'s how you can use the function:pythonmy_list = [10, 5, 7, 3, 8]shortest = find_shortest(my_list)print(\"The shortest value in the list is:\", shortest)Output: The shortest value in the list is: 3' 'Sure, here\\'s a Python program to find the shortest value in a list of integers without using the built-in `min()` function:\\n\\npython\\ndef find_shortest(lst):\\n    \"\"\"\\n    Returns the shortest value in a list of integers\\n    \"\"\"\\n    shortest = lst[0]  # initialize shortest to the first element of the list\\n    for elem in lst:\\n        if elem < shortest:\\n            shortest = elem\\n    return shortest\\n\\n\\nHere\\'s how you can use the function:\\n\\npython\\nmy_list = [10, 5, 7, 3, 8]\\nshortest = find_shortest(my_list)\\nprint(\"The shortest value in the list is:\", shortest)\\n\\n\\nOutput: `The shortest value in the list is: 3`'\n",
      "0:04:07.845765 'A program to find the shortest value in a list of integers in python. Don’t use the min function' 'Sure, here\\'s a Python program to find the shortest value in a list of integers without using the built-in min() function:pythondef find_shortest(lst):    \"\"\"    Returns the shortest value in a list of integers    \"\"\"    shortest = lst[0]  # initialize shortest to the first element of the list    for elem in lst:        if elem < shortest:            shortest = elem    return shortestHere\\'s how you can use the function:pythonmy_list = [10, 5, 7, 3, 8]shortest = find_shortest(my_list)print(\"The shortest value in the list is:\", shortest)Output: The shortest value in the list is: 3' 'Sure, here\\'s a Python program to find the shortest value in a list of integers without using the built-in `min()` function:\\n\\npython\\ndef find_shortest(lst):\\n    \"\"\"\\n    Returns the shortest value in a list of integers\\n    \"\"\"\\n    shortest = lst[0]  # initialize shortest to the first element of the list\\n    for elem in lst:\\n        if elem < shortest:\\n            shortest = elem\\n    return shortest\\n\\n\\nHere\\'s how you can use the function:\\n\\npython\\nmy_list = [10, 5, 7, 3, 8]\\nshortest = find_shortest(my_list)\\nprint(\"The shortest value in the list is:\", shortest)\\n\\n\\nOutput: `The shortest value in the list is: 3`'\n",
      "0:04:17.915462 'A program to find the shortest value in a list of integers in python. Don’t use the min function' 'Sure, here\\'s a Python program to find the shortest value in a list of integers without using the built-in min() function:pythondef find_shortest(lst):    \"\"\"    Returns the shortest value in a list of integers    \"\"\"    shortest = lst[0]  # initialize shortest to the first element of the list    for elem in lst:        if elem < shortest:            shortest = elem    return shortestHere\\'s how you can use the function:pythonmy_list = [10, 5, 7, 3, 8]shortest = find_shortest(my_list)print(\"The shortest value in the list is:\", shortest)Output: The shortest value in the list is: 3' 'Sure, here\\'s a Python program to find the shortest value in a list of integers without using the built-in `min()` function:\\n\\npython\\ndef find_shortest(lst):\\n    \"\"\"\\n    Returns the shortest value in a list of integers\\n    \"\"\"\\n    shortest = lst[0]  # initialize shortest to the first element of the list\\n    for elem in lst:\\n        if elem < shortest:\\n            shortest = elem\\n    return shortest\\n\\n\\nHere\\'s how you can use the function:\\n\\npython\\nmy_list = [10, 5, 7, 3, 8]\\nshortest = find_shortest(my_list)\\nprint(\"The shortest value in the list is:\", shortest)\\n\\n\\nOutput: `The shortest value in the list is: 3`'\n",
      "0:04:27.982046 'A program to find the shortest value in a list of integers in python. Don’t use the min function' 'Sure, here\\'s a Python program to find the shortest value in a list of integers without using the built-in min() function:pythondef find_shortest(lst):    \"\"\"    Returns the shortest value in a list of integers    \"\"\"    shortest = lst[0]  # initialize shortest to the first element of the list    for elem in lst:        if elem < shortest:            shortest = elem    return shortestHere\\'s how you can use the function:pythonmy_list = [10, 5, 7, 3, 8]shortest = find_shortest(my_list)print(\"The shortest value in the list is:\", shortest)Output: The shortest value in the list is: 3' 'Sure, here\\'s a Python program to find the shortest value in a list of integers without using the built-in `min()` function:\\n\\npython\\ndef find_shortest(lst):\\n    \"\"\"\\n    Returns the shortest value in a list of integers\\n    \"\"\"\\n    shortest = lst[0]  # initialize shortest to the first element of the list\\n    for elem in lst:\\n        if elem < shortest:\\n            shortest = elem\\n    return shortest\\n\\n\\nHere\\'s how you can use the function:\\n\\npython\\nmy_list = [10, 5, 7, 3, 8]\\nshortest = find_shortest(my_list)\\nprint(\"The shortest value in the list is:\", shortest)\\n\\n\\nOutput: `The shortest value in the list is: 3`'\n",
      "0:04:38.049240 'A program to find the shortest value in a list of integers in python. Don’t use the min function' 'Sure, here\\'s a Python program to find the shortest value in a list of integers without using the built-in min() function:pythondef find_shortest(lst):    \"\"\"    Returns the shortest value in a list of integers    \"\"\"    shortest = lst[0]  # initialize shortest to the first element of the list    for elem in lst:        if elem < shortest:            shortest = elem    return shortestHere\\'s how you can use the function:pythonmy_list = [10, 5, 7, 3, 8]shortest = find_shortest(my_list)print(\"The shortest value in the list is:\", shortest)Output: The shortest value in the list is: 3' 'Sure, here\\'s a Python program to find the shortest value in a list of integers without using the built-in `min()` function:\\n\\npython\\ndef find_shortest(lst):\\n    \"\"\"\\n    Returns the shortest value in a list of integers\\n    \"\"\"\\n    shortest = lst[0]  # initialize shortest to the first element of the list\\n    for elem in lst:\\n        if elem < shortest:\\n            shortest = elem\\n    return shortest\\n\\n\\nHere\\'s how you can use the function:\\n\\npython\\nmy_list = [10, 5, 7, 3, 8]\\nshortest = find_shortest(my_list)\\nprint(\"The shortest value in the list is:\", shortest)\\n\\n\\nOutput: `The shortest value in the list is: 3`'\n",
      "0:04:48.116361 'A program to find the shortest value in a list of integers in python. Don’t use the min function' 'Sure, here\\'s a Python program to find the shortest value in a list of integers without using the built-in min() function:pythondef find_shortest(lst):    \"\"\"    Returns the shortest value in a list of integers    \"\"\"    shortest = lst[0]  # initialize shortest to the first element of the list    for elem in lst:        if elem < shortest:            shortest = elem    return shortestHere\\'s how you can use the function:pythonmy_list = [10, 5, 7, 3, 8]shortest = find_shortest(my_list)print(\"The shortest value in the list is:\", shortest)Output: The shortest value in the list is: 3' 'Sure, here\\'s a Python program to find the shortest value in a list of integers without using the built-in `min()` function:\\n\\npython\\ndef find_shortest(lst):\\n    \"\"\"\\n    Returns the shortest value in a list of integers\\n    \"\"\"\\n    shortest = lst[0]  # initialize shortest to the first element of the list\\n    for elem in lst:\\n        if elem < shortest:\\n            shortest = elem\\n    return shortest\\n\\n\\nHere\\'s how you can use the function:\\n\\npython\\nmy_list = [10, 5, 7, 3, 8]\\nshortest = find_shortest(my_list)\\nprint(\"The shortest value in the list is:\", shortest)\\n\\n\\nOutput: `The shortest value in the list is: 3`'\n"
     ]
    }
   ],
   "source": [
    "# Get the current date\n",
    "\n",
    "current_date = datetime.now().date()\n",
    "target = '\"Bhaiya 😜😜🤗💛❤️ Pandey\"' \n",
    "x_arg = '//span[contains(@title,' + target + ')]'\n",
    "\n",
    "with open('secrets.json') as f:\n",
    "    data = json.load(f)\n",
    "\n",
    "openai.api_key = data['api_key']\n",
    "\n",
    "messages = [\n",
    "    {\"role\": \"system\", \"content\": \"Personal assistsnt for queries, I am a software developer, python developer, data science and machine learning developer, I also take classes on these topics\"},\n",
    "]\n",
    "\n",
    "del data\n",
    "\n",
    "def clean_text(msg):\n",
    "    return msg.replace('\\n', '').replace('\\ue008\\ue007\\ue008', '').replace('`', '').replace('(Keys.SHIFT)+(Keys.ENTER)+(Keys.SHIFT)', '')\n",
    "\n",
    "def chat_response(input_message):\n",
    "    global messages\n",
    "    if input_message:\n",
    "        messages.append({\n",
    "            'role': 'user', 'content': input_message\n",
    "        })\n",
    "        chat = openai.ChatCompletion.create(\n",
    "            model = \"gpt-3.5-turbo\", messages = messages\n",
    "        )\n",
    "\n",
    "    reply = chat.choices[0].message.content\n",
    "    messages.append({\"role\": \"assistant\", \"content\": reply})\n",
    "    return reply\n",
    "\n",
    "last_message_text = ''\n",
    "my_last_message = ''\n",
    "\n",
    "if __name__ == \"__main__\":\n",
    "    while True:\n",
    "        try:\n",
    "            # Wait for the specific contact to show up\n",
    "            group_title = wait.until(EC.presence_of_element_located((By.XPATH, x_arg)))\n",
    "            group_title.click()\n",
    "\n",
    "            # Detect new message by checking the last message in the conversation\n",
    "            all_messages = driver.find_elements(By.CSS_SELECTOR, \"div._1BOF7._2AOIt\")\n",
    "            last_message = all_messages[-1]\n",
    "            \n",
    "            # Get the timestamp from the message\n",
    "            timestamp_element = last_message.find_element(By.CSS_SELECTOR, \"span.l7jjieqr.fewfhwl7\")\n",
    "            timestamp_str = timestamp_element.text  # \"12:42 am\"\n",
    "\n",
    "            # Get the message text\n",
    "            message_text_element = last_message.find_element(By.CSS_SELECTOR, \"span._11JPr.selectable-text.copyable-text\")\n",
    "            message_text = message_text_element.text\n",
    "\n",
    "            # Convert the timestamp to a datetime object\n",
    "            timestamp = datetime.strptime(timestamp_str, \"%I:%M %p\")\n",
    "\n",
    "            # Update the year, month and day of the timestamp to match the current date\n",
    "            timestamp = timestamp.replace(year=current_date.year, month=current_date.month, day=current_date.day)\n",
    "\n",
    "            # Get the current time\n",
    "            current_time = datetime.now()\n",
    "\n",
    "            \n",
    "            print((current_time - timestamp), repr(last_message_text), repr(my_last_message), repr(message_text))\n",
    "            # If the message was sent less than 60 seconds ago, respond to it\n",
    "            if (current_time - timestamp < timedelta(seconds=70)) and (clean_text(last_message_text)[:200] != clean_text(message_text)[:200]) and (clean_text(my_last_message)[:200] != clean_text(message_text)[:200]):\n",
    "                print(\"messaging\")\n",
    "                my_message = chat_response(message_text).replace('\\n', (Keys.SHIFT)+(Keys.ENTER)+(Keys.SHIFT))\n",
    "                # my_message = 'Hi this is the message I want to send \\n but this shouldnt go in the next line'.replace('\\n', (Keys.SHIFT)+(Keys.ENTER)+(Keys.SHIFT))\n",
    "                msg_box = driver.find_elements(By.CLASS_NAME, '_3Uu1_')[0]\n",
    "                msg_box.send_keys(my_message + Keys.ENTER)\n",
    "                last_message_text = clean_text(message_text)\n",
    "                my_last_message = clean_text(my_message)\n",
    "        except Exception as e:\n",
    "            print(\"An error occurred: \", e)\n",
    "            continue\n",
    "        time.sleep(10)  # Wait for 10 seconds before checking for new messages"
   ]
  },
  {
   "cell_type": "code",
   "execution_count": 46,
   "metadata": {},
   "outputs": [
    {
     "data": {
      "text/plain": [
       "'A GPU (Graphics Processing Unit) is a specialized processor designed to handle complex calculations needed for rendering graphics and images. Unlike a CPU (Central Processing Unit) which is designed to handle a broad range of tasks, a GPU is optimized for parallel processing, which makes it more effective at performing complex mathematical computations. GPUs are commonly used for applications such as video games, image and video processing, and machine learning, where large amounts of data need to be processed in parallel.'"
      ]
     },
     "execution_count": 46,
     "metadata": {},
     "output_type": "execute_result"
    }
   ],
   "source": [
    "chat_response('what is a GPU?')"
   ]
  },
  {
   "cell_type": "code",
   "execution_count": null,
   "metadata": {},
   "outputs": [],
   "source": [
    "0:00:49.401032 'In statistics, a t-test is a type of hypothesis test that is used to determine if there is a significant difference between the means of two groups or sets of data. \\n\\nThe t-test is designed to compare the means of two groups by examining the difference between the means relative to the variability of both groups. Specifically, the t-test calculates a t-value, which is the difference between the means of the two groups divided by the standard error of the difference between the means. \\n\\nThe t-value is then compared to a critical value obtained from a t-distribution table to determine if the difference between the means is statistically significant at a given level of significance (usually 0.05 or 0.01). If the t-value is greater than the critical value, then …'\n",
    "\n",
    "'...the null hypothesis (which states that there is no significant difference between the means of the two groups) is rejected. This means that there is evidence to suggest that there is a significant difference between the means of the two groups. On the other hand, if the t-value is less than the critical value, then the null hypothesis is not rejected and it is concluded that there is no significant difference between the means of the two groups. The t-test can be performed as either an independent samples t-test or a paired samples t-test, depending on the nature of the data being compared.' \n",
    "\n",
    "'...the null hypothesis (which states that there is no significant difference between the means of the two groups) is rejected. This means that there is evidence to suggest that there is a significant difference between the means of the two groups. On the other hand, if the t-value is less than the critical value, then the null hypothesis is not rejected and it is concluded that there is no significant difference between the means of the two groups. The t-test can be performed as either an independent samples t-test or a paired samples t-test, depending on the nature of the data being compared.'\n"
   ]
  },
  {
   "cell_type": "code",
   "execution_count": null,
   "metadata": {},
   "outputs": [],
   "source": [
    "0:00:32.016704 'What is t test in statistics' \n",
    "'In statistics, a t-test is a type of hypothesis test that is used to determine if there is a significant difference between the means of two groups or sets of data. \\n\\nThe t-test is designed to compare the means of two groups by examining the difference between the means relative to the variability of both groups. Specifically, the t-test calculates a t-value, which is the difference between the means of the two groups divided by the standard error of the difference between the means. \\n\\nThe t-value is then compared to a critical value obtained from a t-distribution table to determine if the difference between the means is statistically significant at a given level of significance (usually 0.05 or 0.01). If the t-value is greater than the critical value, then the null hypothesis (which states that there is no significant difference between the means of the two groups) is rejected and it is concluded that the means are significantly different. If the t-value is less than the critical value, then the null hypothesis cannot be rejected and it is concluded that the means are not significantly different.' \n",
    "\n",
    "'In statistics, a t-test is a type of hypothesis test that is used to determine if there is a significant difference between the means of two groups or sets of data. \\n\\nThe t-test is designed to compare the means of two groups by examining the difference between the means relative to the variability of both groups. Specifically, the t-test calculates a t-value, which is the difference between the means of the two groups divided by the standard error of the difference between the means. \\n\\nThe t-value is then compared to a critical value obtained from a t-distribution table to determine if the difference between the means is statistically significant at a given level of significance (usually 0.05 or 0.01). If the t-value is greater than the critical value, then …'\n"
   ]
  },
  {
   "cell_type": "code",
   "execution_count": null,
   "metadata": {},
   "outputs": [
    {
     "data": {
      "text/plain": [
       "489"
      ]
     },
     "execution_count": 18,
     "metadata": {},
     "output_type": "execute_result"
    }
   ],
   "source": [
    "len('''Sure, I can help you with that.\n",
    "\n",
    "Here is a Python program that finds the shortest value in a list of integers without using the built-in `min` function:\n",
    "\n",
    "\n",
    "my_list = [5, 3, 8, 2, 9]\n",
    "\n",
    "shortest = my_list[0]\n",
    "\n",
    "for i in range(1, len(my_list)):\n",
    "    if my_list[i] < shortest:\n",
    "        shortest = my_list[i]\n",
    "\n",
    "print(\"The shortest value in the list is:\", shortest)\n",
    "\n",
    "\n",
    "Here is what the above code does:\n",
    "\n",
    "1. We start by defining our list of integers. In this example, we have used the list `[5, 3, 8, 2, 9]`.''')"
   ]
  },
  {
   "cell_type": "code",
   "execution_count": null,
   "metadata": {},
   "outputs": [],
   "source": []
  }
 ],
 "metadata": {
  "kernelspec": {
   "display_name": "base",
   "language": "python",
   "name": "python3"
  },
  "language_info": {
   "codemirror_mode": {
    "name": "ipython",
    "version": 3
   },
   "file_extension": ".py",
   "mimetype": "text/x-python",
   "name": "python",
   "nbconvert_exporter": "python",
   "pygments_lexer": "ipython3",
   "version": "3.9.10"
  },
  "orig_nbformat": 4
 },
 "nbformat": 4,
 "nbformat_minor": 2
}
